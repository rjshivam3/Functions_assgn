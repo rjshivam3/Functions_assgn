{
 "cells": [
  {
   "cell_type": "markdown",
   "id": "71d28cfd-657e-474b-a1b8-a30d5e33f60e",
   "metadata": {},
   "source": [
    "Q.1 Solved below"
   ]
  },
  {
   "cell_type": "code",
   "execution_count": 1,
   "id": "e18f510e-c949-421f-9882-9ebd7c19876b",
   "metadata": {},
   "outputs": [],
   "source": [
    "def get_odd_numbers():\n",
    "    odd_numbers = []\n",
    "    for i in range(1, 26):\n",
    "        if i % 2 != 0:\n",
    "            odd_numbers.append(i)\n",
    "    return odd_numbers\n"
   ]
  },
  {
   "cell_type": "code",
   "execution_count": 2,
   "id": "d7d140a9-a8df-4a74-8b7f-7a43103c073a",
   "metadata": {},
   "outputs": [
    {
     "data": {
      "text/plain": [
       "[1, 3, 5, 7, 9, 11, 13, 15, 17, 19, 21, 23, 25]"
      ]
     },
     "execution_count": 2,
     "metadata": {},
     "output_type": "execute_result"
    }
   ],
   "source": [
    "get_odd_numbers()"
   ]
  },
  {
   "cell_type": "markdown",
   "id": "70d00ec3-6bca-4890-ab94-131bb7d09cba",
   "metadata": {},
   "source": [
    "Q.2 Solved below"
   ]
  },
  {
   "cell_type": "code",
   "execution_count": 3,
   "id": "a7ca5f0b-3edc-491d-acc6-a1ba3978112b",
   "metadata": {},
   "outputs": [],
   "source": [
    "def concatenate_strings(*args):\n",
    "    result = \"\"\n",
    "    for string in args:\n",
    "        result += string\n",
    "    return result\n"
   ]
  },
  {
   "cell_type": "code",
   "execution_count": 4,
   "id": "e0db8bb6-94d7-4362-a47c-0051c92c91c8",
   "metadata": {},
   "outputs": [
    {
     "name": "stdout",
     "output_type": "stream",
     "text": [
      "helloworld!\n"
     ]
    }
   ],
   "source": [
    "result = concatenate_strings(\"hello\", \"world\", \"!\")\n",
    "print(result)"
   ]
  },
  {
   "cell_type": "code",
   "execution_count": 5,
   "id": "e667f7a4-81a5-438a-87e1-fc861440aa42",
   "metadata": {},
   "outputs": [],
   "source": [
    "def print_kwargs(**kwargs):\n",
    "    for key, value in kwargs.items():\n",
    "        print(f\"{key} = {value}\")\n"
   ]
  },
  {
   "cell_type": "code",
   "execution_count": 7,
   "id": "1ec09cc0-848d-4d3e-a764-ccbfeed86e18",
   "metadata": {},
   "outputs": [
    {
     "name": "stdout",
     "output_type": "stream",
     "text": [
      "name = Shivam\n",
      "age = 21\n",
      "location = Mumbai\n"
     ]
    }
   ],
   "source": [
    "print_kwargs(name=\"Shivam\", age=21, location=\"Mumbai\")"
   ]
  },
  {
   "cell_type": "markdown",
   "id": "f6f66fef-cceb-4603-9129-2a904e24d726",
   "metadata": {},
   "source": [
    "Q.3 Solved below"
   ]
  },
  {
   "cell_type": "code",
   "execution_count": 12,
   "id": "a41adb7f-7ba6-4953-a36c-dc62c50fcd1e",
   "metadata": {},
   "outputs": [
    {
     "name": "stdout",
     "output_type": "stream",
     "text": [
      "2\n",
      "4\n",
      "6\n",
      "8\n",
      "10\n"
     ]
    }
   ],
   "source": [
    "list = [2, 4, 6, 8, 10, 12, 14, 16, 18, 20]\n",
    "iterator = iter(list)\n",
    "for i in range(5):\n",
    "    element = next(iterator)\n",
    "    print(element)\n"
   ]
  },
  {
   "cell_type": "markdown",
   "id": "0ec7e817-e4dc-4c0b-b3b3-cdfbb7fb553f",
   "metadata": {},
   "source": [
    "Q.4 Solved below"
   ]
  },
  {
   "cell_type": "code",
   "execution_count": 14,
   "id": "4d8b7b18-1bb3-4eac-870a-dc01ac128fe2",
   "metadata": {},
   "outputs": [],
   "source": [
    "def fibonacci_generator(n):\n",
    "    a, b = 0, 1\n",
    "    for i in range(n):\n",
    "        yield a\n",
    "        a, b = b, a + b\n"
   ]
  },
  {
   "cell_type": "code",
   "execution_count": 15,
   "id": "79cd8b3d-6bf0-417d-a2fb-bf8b5a4ca70a",
   "metadata": {},
   "outputs": [
    {
     "name": "stdout",
     "output_type": "stream",
     "text": [
      "0\n",
      "1\n",
      "1\n",
      "2\n",
      "3\n",
      "5\n",
      "8\n",
      "13\n",
      "21\n",
      "34\n"
     ]
    }
   ],
   "source": [
    "for i in fibonacci_generator(10):\n",
    "    print(i)\n"
   ]
  },
  {
   "cell_type": "markdown",
   "id": "6d8872b8-5822-4013-b8eb-7e385a5a5218",
   "metadata": {},
   "source": [
    "Q.5 Solved below"
   ]
  },
  {
   "cell_type": "code",
   "execution_count": 16,
   "id": "5859fb59-79a0-43c9-bc0d-7e1c5b6f499e",
   "metadata": {},
   "outputs": [],
   "source": [
    "def primes():\n",
    "    sieve = [True] * 1000\n",
    "    sieve[0] = sieve[1] = False\n",
    "    for i in range(2, int(1000 ** 0.5) + 1):\n",
    "        if sieve[i]:\n",
    "            for j in range(i * i, 1000, i):\n",
    "                sieve[j] = False\n",
    "    for i in range(2, 1000):\n",
    "        if sieve[i]:\n",
    "            yield i\n"
   ]
  },
  {
   "cell_type": "code",
   "execution_count": 17,
   "id": "4a59101f-1df2-41f6-bb28-a1a2a78b38af",
   "metadata": {},
   "outputs": [
    {
     "name": "stdout",
     "output_type": "stream",
     "text": [
      "2\n",
      "3\n",
      "5\n",
      "7\n",
      "11\n",
      "13\n",
      "17\n",
      "19\n",
      "23\n",
      "29\n",
      "31\n",
      "37\n",
      "41\n",
      "43\n",
      "47\n",
      "53\n",
      "59\n",
      "61\n",
      "67\n",
      "71\n"
     ]
    }
   ],
   "source": [
    "p = primes()\n",
    "for i in range(20):\n",
    "    print(next(p))\n"
   ]
  },
  {
   "cell_type": "code",
   "execution_count": null,
   "id": "7baeedaf-39e6-4d24-83c7-d6710b6c1110",
   "metadata": {},
   "outputs": [],
   "source": []
  }
 ],
 "metadata": {
  "kernelspec": {
   "display_name": "Python 3 (ipykernel)",
   "language": "python",
   "name": "python3"
  },
  "language_info": {
   "codemirror_mode": {
    "name": "ipython",
    "version": 3
   },
   "file_extension": ".py",
   "mimetype": "text/x-python",
   "name": "python",
   "nbconvert_exporter": "python",
   "pygments_lexer": "ipython3",
   "version": "3.10.8"
  }
 },
 "nbformat": 4,
 "nbformat_minor": 5
}
